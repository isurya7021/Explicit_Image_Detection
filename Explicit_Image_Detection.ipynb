{
  "nbformat": 4,
  "nbformat_minor": 5,
  "metadata": {
    "kernelspec": {
      "display_name": "Python 3",
      "language": "python",
      "name": "python3"
    },
    "language_info": {
      "codemirror_mode": {
        "name": "ipython",
        "version": 3
      },
      "file_extension": ".py",
      "mimetype": "text/x-python",
      "name": "python",
      "nbconvert_exporter": "python",
      "pygments_lexer": "ipython3",
      "version": "3.7.10"
    },
    "papermill": {
      "default_parameters": {},
      "duration": 138.623358,
      "end_time": "2021-09-02T04:15:20.255617",
      "environment_variables": {},
      "exception": null,
      "input_path": "__notebook__.ipynb",
      "output_path": "__notebook__.ipynb",
      "parameters": {},
      "start_time": "2021-09-02T04:13:01.632259",
      "version": "2.3.3"
    },
    "colab": {
      "name": "Explicit_Image_Detection.ipynb",
      "provenance": [],
      "collapsed_sections": []
    }
  },
  "cells": [
    {
      "cell_type": "markdown",
      "metadata": {
        "papermill": {
          "duration": 0.02371,
          "end_time": "2021-09-02T04:13:08.558396",
          "exception": false,
          "start_time": "2021-09-02T04:13:08.534686",
          "status": "completed"
        },
        "tags": [],
        "id": "a6fd306f"
      },
      "source": [
        "# Importing Packages"
      ],
      "id": "a6fd306f"
    },
    {
      "cell_type": "code",
      "metadata": {
        "execution": {
          "iopub.execute_input": "2021-09-02T04:13:08.606971Z",
          "iopub.status.busy": "2021-09-02T04:13:08.605482Z",
          "iopub.status.idle": "2021-09-02T04:13:12.837847Z",
          "shell.execute_reply": "2021-09-02T04:13:12.838379Z",
          "shell.execute_reply.started": "2021-09-02T03:42:10.614436Z"
        },
        "papermill": {
          "duration": 4.257768,
          "end_time": "2021-09-02T04:13:12.838652",
          "exception": false,
          "start_time": "2021-09-02T04:13:08.580884",
          "status": "completed"
        },
        "tags": [],
        "id": "45ef0b4c"
      },
      "source": [
        "from google.colab import drive\n",
        "drive.mount('/content/drive')"
      ],
      "id": "45ef0b4c",
      "execution_count": null,
      "outputs": []
    },
    {
      "cell_type": "code",
      "metadata": {
        "id": "-WCYsnxmD52U"
      },
      "source": [
        "import os\n",
        "import numpy as np\n",
        "import matplotlib.pyplot as plt\n",
        "import pandas as pd\n",
        "import tensorflow as tf"
      ],
      "id": "-WCYsnxmD52U",
      "execution_count": null,
      "outputs": []
    },
    {
      "cell_type": "markdown",
      "metadata": {
        "papermill": {
          "duration": 0.021097,
          "end_time": "2021-09-02T04:13:12.880627",
          "exception": false,
          "start_time": "2021-09-02T04:13:12.859530",
          "status": "completed"
        },
        "tags": [],
        "id": "eef61078"
      },
      "source": [
        "# Defining paths"
      ],
      "id": "eef61078"
    },
    {
      "cell_type": "code",
      "metadata": {
        "execution": {
          "iopub.execute_input": "2021-09-02T04:13:12.926837Z",
          "iopub.status.busy": "2021-09-02T04:13:12.925465Z",
          "iopub.status.idle": "2021-09-02T04:13:12.928176Z",
          "shell.execute_reply": "2021-09-02T04:13:12.927758Z",
          "shell.execute_reply.started": "2021-09-02T03:58:24.626985Z"
        },
        "papermill": {
          "duration": 0.026875,
          "end_time": "2021-09-02T04:13:12.928292",
          "exception": false,
          "start_time": "2021-09-02T04:13:12.901417",
          "status": "completed"
        },
        "tags": [],
        "id": "ee3cd393"
      },
      "source": [
        "path='/content/drive/MyDrive/Explicit_Image_Detection/Datasets/Train/'"
      ],
      "id": "ee3cd393",
      "execution_count": null,
      "outputs": []
    },
    {
      "cell_type": "code",
      "metadata": {
        "execution": {
          "iopub.execute_input": "2021-09-02T04:13:12.974264Z",
          "iopub.status.busy": "2021-09-02T04:13:12.973709Z",
          "iopub.status.idle": "2021-09-02T04:13:13.339327Z",
          "shell.execute_reply": "2021-09-02T04:13:13.339728Z",
          "shell.execute_reply.started": "2021-09-02T03:58:25.591535Z"
        },
        "papermill": {
          "duration": 0.391134,
          "end_time": "2021-09-02T04:13:13.339895",
          "exception": false,
          "start_time": "2021-09-02T04:13:12.948761",
          "status": "completed"
        },
        "tags": [],
        "id": "ec71ed65"
      },
      "source": [
        "Nude=os.listdir(path+'Explicit_Images/')\n",
        "Decent=os.listdir(path+'Non_Explicit_Images/')\n",
        "test_path='/content/drive/MyDrive/Explicit_Image_Detection/Datasets/Test/'\n",
        "test=os.listdir(test_path)"
      ],
      "id": "ec71ed65",
      "execution_count": null,
      "outputs": []
    },
    {
      "cell_type": "markdown",
      "metadata": {
        "papermill": {
          "duration": 0.020272,
          "end_time": "2021-09-02T04:13:13.381137",
          "exception": false,
          "start_time": "2021-09-02T04:13:13.360865",
          "status": "completed"
        },
        "tags": [],
        "id": "6913d932"
      },
      "source": [
        "# Importing Resnet50 Pretrained model"
      ],
      "id": "6913d932"
    },
    {
      "cell_type": "code",
      "metadata": {
        "execution": {
          "iopub.execute_input": "2021-09-02T04:13:13.428796Z",
          "iopub.status.busy": "2021-09-02T04:13:13.428305Z",
          "iopub.status.idle": "2021-09-02T04:13:16.021186Z",
          "shell.execute_reply": "2021-09-02T04:13:16.020598Z",
          "shell.execute_reply.started": "2021-09-02T03:58:27.606675Z"
        },
        "papermill": {
          "duration": 2.619901,
          "end_time": "2021-09-02T04:13:16.021335",
          "exception": false,
          "start_time": "2021-09-02T04:13:13.401434",
          "status": "completed"
        },
        "tags": [],
        "id": "f7ed7917"
      },
      "source": [
        "resnet = tf.keras.applications.resnet50.ResNet50(include_top=False)\n",
        "preprocess_input = tf.keras.applications.resnet50.preprocess_input\n",
        "image = tf.keras.preprocessing.image"
      ],
      "id": "f7ed7917",
      "execution_count": null,
      "outputs": []
    },
    {
      "cell_type": "code",
      "metadata": {
        "execution": {
          "iopub.execute_input": "2021-09-02T04:13:16.075734Z",
          "iopub.status.busy": "2021-09-02T04:13:16.074868Z",
          "iopub.status.idle": "2021-09-02T04:13:16.077258Z",
          "shell.execute_reply": "2021-09-02T04:13:16.077634Z",
          "shell.execute_reply.started": "2021-09-02T03:58:32.527731Z"
        },
        "papermill": {
          "duration": 0.030275,
          "end_time": "2021-09-02T04:13:16.077769",
          "exception": false,
          "start_time": "2021-09-02T04:13:16.047494",
          "status": "completed"
        },
        "tags": [],
        "id": "183d5b89"
      },
      "source": [
        "batch_size=20"
      ],
      "id": "183d5b89",
      "execution_count": null,
      "outputs": []
    },
    {
      "cell_type": "markdown",
      "metadata": {
        "papermill": {
          "duration": 0.02496,
          "end_time": "2021-09-02T04:13:16.126366",
          "exception": false,
          "start_time": "2021-09-02T04:13:16.101406",
          "status": "completed"
        },
        "tags": [],
        "id": "aa80b41a"
      },
      "source": [
        "# Extracting Features"
      ],
      "id": "aa80b41a"
    },
    {
      "cell_type": "code",
      "metadata": {
        "id": "xtG84V4d_qXJ"
      },
      "source": [
        "def extract_features1(img_paths, batch_size = 1):\n",
        "\n",
        "    global resnet\n",
        "    img_array = np.zeros((1, 299, 299, 3))\n",
        "    img=image.load_img(path1,target_size=(299,299))\n",
        "    #plt.imshow(img)\n",
        "    img = image.img_to_array(img)\n",
        "    img = np.expand_dims(img, axis=0)\n",
        "    x = preprocess_input(img)\n",
        "    img_array[0] = x\n",
        "    \n",
        "    X = resnet.predict(img_array, batch_size=1, verbose=1)\n",
        "    X = X.reshape(1, 512, -1)\n",
        "    return X"
      ],
      "id": "xtG84V4d_qXJ",
      "execution_count": null,
      "outputs": []
    },
    {
      "cell_type": "code",
      "metadata": {
        "execution": {
          "iopub.execute_input": "2021-09-02T04:13:16.182837Z",
          "iopub.status.busy": "2021-09-02T04:13:16.181909Z",
          "iopub.status.idle": "2021-09-02T04:13:16.184931Z",
          "shell.execute_reply": "2021-09-02T04:13:16.184439Z",
          "shell.execute_reply.started": "2021-09-02T03:58:32.534847Z"
        },
        "papermill": {
          "duration": 0.033438,
          "end_time": "2021-09-02T04:13:16.185070",
          "exception": false,
          "start_time": "2021-09-02T04:13:16.151632",
          "status": "completed"
        },
        "tags": [],
        "id": "b6301376"
      },
      "source": [
        "def extract_features(img_paths, batch_size = 20):\n",
        "\n",
        "    global resnet\n",
        "    n = len(img_paths)\n",
        "    img_array = np.zeros((n, 299, 299, 3))\n",
        "    \n",
        "    for i, path in enumerate(img_paths):\n",
        "        img = image.load_img(path, target_size=(299, 299))\n",
        "        img = image.img_to_array(img)\n",
        "        img = np.expand_dims(img, axis=0)\n",
        "        x = preprocess_input(img)\n",
        "        img_array[i] = x\n",
        "    \n",
        "    X = resnet.predict(img_array, batch_size=batch_size, verbose=1)\n",
        "    X = X.reshape(n, 512, -1)\n",
        "    return X\n"
      ],
      "id": "b6301376",
      "execution_count": null,
      "outputs": []
    },
    {
      "cell_type": "code",
      "metadata": {
        "execution": {
          "iopub.execute_input": "2021-09-02T04:13:16.239707Z",
          "iopub.status.busy": "2021-09-02T04:13:16.239117Z",
          "iopub.status.idle": "2021-09-02T04:14:47.499114Z",
          "shell.execute_reply": "2021-09-02T04:14:47.498646Z",
          "shell.execute_reply.started": "2021-09-02T03:58:32.544606Z"
        },
        "papermill": {
          "duration": 91.289555,
          "end_time": "2021-09-02T04:14:47.499247",
          "exception": false,
          "start_time": "2021-09-02T04:13:16.209692",
          "status": "completed"
        },
        "tags": [],
        "id": "6e20c645",
        "colab": {
          "base_uri": "https://localhost:8080/"
        },
        "outputId": "538df00d-94f5-4e8c-ecfb-f93e37353c3e"
      },
      "source": [
        "X = extract_features(\n",
        "    list(map(lambda x: path + 'Explicit_Images/' + x, Nude)) + list(map(lambda x: path + 'Non_Explicit_Images/' + x, Decent))\n",
        ") \n",
        "y = np.array([1] * len(Nude) + [0] * len(Decent))"
      ],
      "id": "6e20c645",
      "execution_count": null,
      "outputs": [
        {
          "output_type": "stream",
          "name": "stdout",
          "text": [
            "89/89 [==============================] - 498s 6s/step\n"
          ]
        }
      ]
    },
    {
      "cell_type": "code",
      "metadata": {
        "execution": {
          "iopub.execute_input": "2021-09-02T04:14:47.586716Z",
          "iopub.status.busy": "2021-09-02T04:14:47.586216Z",
          "iopub.status.idle": "2021-09-02T04:14:56.242433Z",
          "shell.execute_reply": "2021-09-02T04:14:56.241977Z",
          "shell.execute_reply.started": "2021-09-02T04:11:17.839974Z"
        },
        "papermill": {
          "duration": 8.701601,
          "end_time": "2021-09-02T04:14:56.242557",
          "exception": false,
          "start_time": "2021-09-02T04:14:47.540956",
          "status": "completed"
        },
        "tags": [],
        "id": "eb00b769",
        "colab": {
          "base_uri": "https://localhost:8080/"
        },
        "outputId": "ee530ed5-1409-430b-8d91-0e1130719764"
      },
      "source": [
        "X_test = extract_features(\n",
        "    list(map(lambda x: test_path + x, test))\n",
        ")\n",
        "y_test = np.array([1] * len(Nude) + [0] * len(Decent))"
      ],
      "id": "eb00b769",
      "execution_count": null,
      "outputs": [
        {
          "output_type": "stream",
          "name": "stdout",
          "text": [
            "21/21 [==============================] - 117s 6s/step\n"
          ]
        }
      ]
    },
    {
      "cell_type": "markdown",
      "metadata": {
        "papermill": {
          "duration": 0.044344,
          "end_time": "2021-09-02T04:14:56.331513",
          "exception": false,
          "start_time": "2021-09-02T04:14:56.287169",
          "status": "completed"
        },
        "tags": [],
        "id": "c8dba155"
      },
      "source": [
        "# Training the model"
      ],
      "id": "c8dba155"
    },
    {
      "cell_type": "code",
      "metadata": {
        "execution": {
          "iopub.execute_input": "2021-09-02T04:14:56.425649Z",
          "iopub.status.busy": "2021-09-02T04:14:56.425128Z",
          "iopub.status.idle": "2021-09-02T04:14:56.428576Z",
          "shell.execute_reply": "2021-09-02T04:14:56.428969Z",
          "shell.execute_reply.started": "2021-09-02T04:11:23.660234Z"
        },
        "papermill": {
          "duration": 0.052834,
          "end_time": "2021-09-02T04:14:56.429109",
          "exception": false,
          "start_time": "2021-09-02T04:14:56.376275",
          "status": "completed"
        },
        "tags": [],
        "id": "b870bad7"
      },
      "source": [
        "def train():\n",
        "    model = tf.keras.models.Sequential([ \n",
        "      tf.keras.layers.Flatten(),\n",
        "      tf.keras.layers.Dense(1724, activation=tf.nn.relu),\n",
        "\n",
        "\n",
        "      tf.keras.layers.Dense(1, activation=tf.nn.sigmoid)\n",
        "\n",
        "    ])\n",
        "    return model"
      ],
      "id": "b870bad7",
      "execution_count": null,
      "outputs": []
    },
    {
      "cell_type": "code",
      "metadata": {
        "execution": {
          "iopub.execute_input": "2021-09-02T04:14:56.521677Z",
          "iopub.status.busy": "2021-09-02T04:14:56.521006Z",
          "iopub.status.idle": "2021-09-02T04:14:57.362253Z",
          "shell.execute_reply": "2021-09-02T04:14:57.361752Z",
          "shell.execute_reply.started": "2021-09-02T04:11:23.675330Z"
        },
        "papermill": {
          "duration": 0.889041,
          "end_time": "2021-09-02T04:14:57.362398",
          "exception": false,
          "start_time": "2021-09-02T04:14:56.473357",
          "status": "completed"
        },
        "tags": [],
        "id": "bcf79677"
      },
      "source": [
        "from sklearn.model_selection import train_test_split\n",
        "X_train, X_test, y_train, y_test = train_test_split(X, y, random_state=42)"
      ],
      "id": "bcf79677",
      "execution_count": null,
      "outputs": []
    },
    {
      "cell_type": "code",
      "metadata": {
        "execution": {
          "iopub.execute_input": "2021-09-02T04:14:57.457379Z",
          "iopub.status.busy": "2021-09-02T04:14:57.456278Z",
          "iopub.status.idle": "2021-09-02T04:14:57.525257Z",
          "shell.execute_reply": "2021-09-02T04:14:57.524787Z",
          "shell.execute_reply.started": "2021-09-02T04:11:25.342871Z"
        },
        "papermill": {
          "duration": 0.118221,
          "end_time": "2021-09-02T04:14:57.525394",
          "exception": false,
          "start_time": "2021-09-02T04:14:57.407173",
          "status": "completed"
        },
        "tags": [],
        "id": "94782a3a"
      },
      "source": [
        "from sklearn.model_selection import train_test_split\n",
        "X_train, X_val, y_train, y_val = train_test_split(X, y, test_size = 0.2, random_state=42)"
      ],
      "id": "94782a3a",
      "execution_count": null,
      "outputs": []
    },
    {
      "cell_type": "code",
      "metadata": {
        "execution": {
          "iopub.execute_input": "2021-09-02T04:14:57.619484Z",
          "iopub.status.busy": "2021-09-02T04:14:57.618844Z",
          "iopub.status.idle": "2021-09-02T04:15:05.311974Z",
          "shell.execute_reply": "2021-09-02T04:15:05.312528Z",
          "shell.execute_reply.started": "2021-09-02T04:11:26.401808Z"
        },
        "papermill": {
          "duration": 7.7428,
          "end_time": "2021-09-02T04:15:05.312711",
          "exception": false,
          "start_time": "2021-09-02T04:14:57.569911",
          "status": "completed"
        },
        "tags": [],
        "colab": {
          "base_uri": "https://localhost:8080/"
        },
        "id": "95c47f99",
        "outputId": "2f5983b8-056d-4777-dcfa-10406e4cea52"
      },
      "source": [
        "from keras.models import Sequential\n",
        "from keras.layers import Conv2D, MaxPooling2D\n",
        "from keras.layers import Activation, Dropout, Dense\n",
        "np.random.seed(42)\n",
        "\n",
        "epochs = 10\n",
        "\n",
        "model = train()\n",
        "model.compile(optimizer='adam',\n",
        "              loss='binary_crossentropy',\n",
        "              metrics=['accuracy'])\n",
        "\n",
        "history = model.fit(X_train, y_train,\n",
        "                    validation_data=(X_test,y_test),\n",
        "                    batch_size=batch_size,\n",
        "                    epochs=epochs)"
      ],
      "id": "95c47f99",
      "execution_count": null,
      "outputs": [
        {
          "output_type": "stream",
          "name": "stdout",
          "text": [
            "Epoch 1/10\n",
            "71/71 [==============================] - 134s 2s/step - loss: 5.9004 - accuracy: 0.9625 - val_loss: 2.0153 - val_accuracy: 0.9910\n",
            "Epoch 2/10\n",
            "71/71 [==============================] - 130s 2s/step - loss: 0.9471 - accuracy: 0.9929 - val_loss: 1.6412 - val_accuracy: 0.9910\n",
            "Epoch 3/10\n",
            "71/71 [==============================] - 134s 2s/step - loss: 0.7058 - accuracy: 0.9958 - val_loss: 1.4486 - val_accuracy: 0.9955\n",
            "Epoch 4/10\n",
            "71/71 [==============================] - 131s 2s/step - loss: 0.3850 - accuracy: 0.9965 - val_loss: 1.5158 - val_accuracy: 0.9910\n",
            "Epoch 5/10\n",
            "71/71 [==============================] - 131s 2s/step - loss: 0.8771 - accuracy: 0.9958 - val_loss: 4.7302e-37 - val_accuracy: 1.0000\n",
            "Epoch 6/10\n",
            "71/71 [==============================] - 131s 2s/step - loss: 0.4963 - accuracy: 0.9972 - val_loss: 0.9716 - val_accuracy: 0.9977\n",
            "Epoch 7/10\n",
            "71/71 [==============================] - 139s 2s/step - loss: 0.3152 - accuracy: 0.9972 - val_loss: 1.0904 - val_accuracy: 0.9955\n",
            "Epoch 8/10\n",
            "71/71 [==============================] - 134s 2s/step - loss: 0.0000e+00 - accuracy: 1.0000 - val_loss: 1.5678 - val_accuracy: 0.9955\n",
            "Epoch 9/10\n",
            "71/71 [==============================] - 134s 2s/step - loss: 0.0000e+00 - accuracy: 1.0000 - val_loss: 1.5680 - val_accuracy: 0.9955\n",
            "Epoch 10/10\n",
            "71/71 [==============================] - 134s 2s/step - loss: 0.0000e+00 - accuracy: 1.0000 - val_loss: 1.5680 - val_accuracy: 0.9955\n"
          ]
        }
      ]
    },
    {
      "cell_type": "markdown",
      "metadata": {
        "papermill": {
          "duration": 0.073421,
          "end_time": "2021-09-02T04:15:05.460974",
          "exception": false,
          "start_time": "2021-09-02T04:15:05.387553",
          "status": "completed"
        },
        "tags": [],
        "id": "633b968a"
      },
      "source": [
        "# Training and Loss Graph"
      ],
      "id": "633b968a"
    },
    {
      "cell_type": "code",
      "metadata": {
        "execution": {
          "iopub.execute_input": "2021-09-02T04:15:05.618449Z",
          "iopub.status.busy": "2021-09-02T04:15:05.617685Z",
          "iopub.status.idle": "2021-09-02T04:15:05.784961Z",
          "shell.execute_reply": "2021-09-02T04:15:05.785351Z",
          "shell.execute_reply.started": "2021-09-02T04:00:30.773902Z"
        },
        "papermill": {
          "duration": 0.250008,
          "end_time": "2021-09-02T04:15:05.785491",
          "exception": false,
          "start_time": "2021-09-02T04:15:05.535483",
          "status": "completed"
        },
        "tags": [],
        "id": "ecdf0540",
        "colab": {
          "base_uri": "https://localhost:8080/",
          "height": 282
        },
        "outputId": "629d744f-78d8-4526-c982-7651548a4f67"
      },
      "source": [
        "plt.plot(range(1,epochs+1), history.history['accuracy'], label='train accuracy')\n",
        "plt.plot(range(1,epochs+1), history.history['val_accuracy'], label='test accuracy')\n",
        "plt.legend()"
      ],
      "id": "ecdf0540",
      "execution_count": null,
      "outputs": [
        {
          "output_type": "execute_result",
          "data": {
            "text/plain": [
              "<matplotlib.legend.Legend at 0x7feb43ce5e90>"
            ]
          },
          "metadata": {},
          "execution_count": 17
        },
        {
          "output_type": "display_data",
          "data": {
            "image/png": "[encoded data removed]",
            "text/plain": [
              "<Figure size 432x288 with 1 Axes>"
            ]
          },
          "metadata": {
            "needs_background": "light"
          }
        }
      ]
    },
    {
      "cell_type": "code",
      "metadata": {
        "execution": {
          "iopub.execute_input": "2021-09-02T04:15:05.964142Z",
          "iopub.status.busy": "2021-09-02T04:15:05.963190Z",
          "iopub.status.idle": "2021-09-02T04:15:06.080801Z",
          "shell.execute_reply": "2021-09-02T04:15:06.081791Z",
          "shell.execute_reply.started": "2021-09-02T04:00:30.965926Z"
        },
        "papermill": {
          "duration": 0.221381,
          "end_time": "2021-09-02T04:15:06.081967",
          "exception": false,
          "start_time": "2021-09-02T04:15:05.860586",
          "status": "completed"
        },
        "tags": [],
        "colab": {
          "base_uri": "https://localhost:8080/",
          "height": 282
        },
        "id": "93154798",
        "outputId": "d42f4db0-b829-4a01-e270-e654ec9b8c1e"
      },
      "source": [
        "plt.plot(range(1,epochs+1), history.history['loss'], label='train loss')\n",
        "plt.plot(range(1,epochs+1), history.history['val_loss'], label='test loss')\n",
        "plt.legend()"
      ],
      "id": "93154798",
      "execution_count": null,
      "outputs": [
        {
          "output_type": "execute_result",
          "data": {
            "text/plain": [
              "<matplotlib.legend.Legend at 0x7feb4938bdd0>"
            ]
          },
          "metadata": {},
          "execution_count": 18
        },
        {
          "output_type": "display_data",
          "data": {
            "image/png": "[encoded data removed]",
            "text/plain": [
              "<Figure size 432x288 with 1 Axes>"
            ]
          },
          "metadata": {
            "needs_background": "light"
          }
        }
      ]
    },
    {
      "cell_type": "code",
      "metadata": {
        "id": "fyFTHwYAyrEL"
      },
      "source": [
        "model.save('/content/drive/MyDrive/Explicit_Image_Detection/my_model.h5') "
      ],
      "id": "fyFTHwYAyrEL",
      "execution_count": null,
      "outputs": []
    },
    {
      "cell_type": "code",
      "metadata": {
        "colab": {
          "base_uri": "https://localhost:8080/"
        },
        "id": "YC7DXdTWy670",
        "outputId": "6bc7a66d-5f37-42d6-a1df-2336815718c8"
      },
      "source": [
        "My_model = tf.keras.models.load_model('/content/drive/MyDrive/Explicit_Image_Detection/my_model.h5')\n",
        "My_model.summary()"
      ],
      "id": "YC7DXdTWy670",
      "execution_count": null,
      "outputs": [
        {
          "output_type": "stream",
          "name": "stdout",
          "text": [
            "Model: \"sequential\"\n",
            "_________________________________________________________________\n",
            " Layer (type)                Output Shape              Param #   \n",
            "=================================================================\n",
            " flatten (Flatten)           (None, 204800)            0         \n",
            "                                                                 \n",
            " dense (Dense)               (None, 1724)              353076924 \n",
            "                                                                 \n",
            " dense_1 (Dense)             (None, 1)                 1725      \n",
            "                                                                 \n",
            "=================================================================\n",
            "Total params: 353,078,649\n",
            "Trainable params: 353,078,649\n",
            "Non-trainable params: 0\n",
            "_________________________________________________________________\n"
          ]
        }
      ]
    },
    {
      "cell_type": "markdown",
      "metadata": {
        "papermill": {
          "duration": 0.07494,
          "end_time": "2021-09-02T04:15:06.684709",
          "exception": false,
          "start_time": "2021-09-02T04:15:06.609769",
          "status": "completed"
        },
        "tags": [],
        "id": "3b5879de"
      },
      "source": [
        "# Detecting Explicit image"
      ],
      "id": "3b5879de"
    },
    {
      "cell_type": "code",
      "metadata": {
        "execution": {
          "iopub.execute_input": "2021-09-02T04:15:06.838145Z",
          "iopub.status.busy": "2021-09-02T04:15:06.837612Z",
          "iopub.status.idle": "2021-09-02T04:15:10.579049Z",
          "shell.execute_reply": "2021-09-02T04:15:10.579457Z",
          "shell.execute_reply.started": "2021-09-02T04:11:41.374871Z"
        },
        "papermill": {
          "duration": 3.820106,
          "end_time": "2021-09-02T04:15:10.579608",
          "exception": false,
          "start_time": "2021-09-02T04:15:06.759502",
          "status": "completed"
        },
        "tags": [],
        "colab": {
          "base_uri": "https://localhost:8080/"
        },
        "id": "eb61ba29",
        "outputId": "d6411598-b8e3-4d50-dc46-de3572d85972"
      },
      "source": [
        "path1 ='/content/drive/MyDrive/Explicit_Image_Detection/Test/normal.jfif'\n",
        "X_test = extract_features1(\n",
        "    path1\n",
        ")\n"
      ],
      "id": "eb61ba29",
      "execution_count": null,
      "outputs": [
        {
          "output_type": "stream",
          "name": "stdout",
          "text": [
            "1/1 [==============================] - 0s 340ms/step\n"
          ]
        }
      ]
    },
    {
      "cell_type": "code",
      "metadata": {
        "execution": {
          "iopub.execute_input": "2021-09-02T04:15:10.740589Z",
          "iopub.status.busy": "2021-09-02T04:15:10.739710Z",
          "iopub.status.idle": "2021-09-02T04:15:10.841746Z",
          "shell.execute_reply": "2021-09-02T04:15:10.841312Z",
          "shell.execute_reply.started": "2021-09-02T04:11:49.022931Z"
        },
        "papermill": {
          "duration": 0.184316,
          "end_time": "2021-09-02T04:15:10.841869",
          "exception": false,
          "start_time": "2021-09-02T04:15:10.657553",
          "status": "completed"
        },
        "tags": [],
        "colab": {
          "base_uri": "https://localhost:8080/"
        },
        "id": "0ef8bd7a",
        "outputId": "95efe1a8-dfe4-4c96-8b54-0aaa26ada7e0"
      },
      "source": [
        "y_pred = My_model.predict(X_test)\n",
        "if(y_pred >= 0.5).all():\n",
        "    print(\"Explicit Image\")\n",
        "else:\n",
        "    print(\"Non Explicit Image\")"
      ],
      "id": "0ef8bd7a",
      "execution_count": null,
      "outputs": [
        {
          "output_type": "stream",
          "name": "stdout",
          "text": [
            "Non Explicit Image\n"
          ]
        }
      ]
    }
  ]
}